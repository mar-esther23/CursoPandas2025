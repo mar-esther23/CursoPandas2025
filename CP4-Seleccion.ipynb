{
 "cells": [
  {
   "cell_type": "markdown",
   "metadata": {
    "tags": []
   },
   "source": [
    "# Análisis y visualización de datos con python\n",
    "# 3. Indexación y selección de dataframes\n",
    "\n",
    "    - a) Estructura de una tabla \n",
    "    - b) Slicing\n",
    "    - c) Únicos y conteo\n",
    "    - d) Ordenar\n",
    "    - e) Subsetting\n",
    "    - f) Guardar datos\n",
    "\n",
    "---"
   ]
  },
  {
   "cell_type": "markdown",
   "metadata": {},
   "source": [
    "## 4.a Estructura de una tabla \n",
    "\n",
    "En primer lugar cargaremos el Histórico de las Bitácoras Onomásticas (HBO) como vimos en el tutorial anterior. \n",
    "\n",
    "Adicionalmente, marcaremos que la columna `ID` es el indice de la tabla usando la opción `index_col`. El indice debé de ser único, es decir, los valores no deben de repetirse. También transformaremos la columna `Edad_transcrito` a datos numéricos, ignorando por ahora los textos."
   ]
  },
  {
   "cell_type": "code",
   "execution_count": null,
   "metadata": {
    "scrolled": true,
    "tags": []
   },
   "outputs": [],
   "source": [
    "import pandas as pd\n",
    "\n",
    "filename = 'data_raw/CNB_DOB_BPGS_Respuesta_Solicitud 332163723000249.xlsx'\n",
    "df = pd.read_excel(filename, #nombre del archivo\n",
    "                   sheet_name=\"HBO\", #nombre de la hoja\n",
    "                   index_col='ID' #nombre de la columna del indice\n",
    "                  )\n",
    "df['Edad_transcrito'] = pd.to_numeric(df['Edad_transcrito'], errors='coerce') #Limpieza\n",
    "df"
   ]
  },
  {
   "cell_type": "markdown",
   "metadata": {},
   "source": [
    "Una tabla de pandas o dataframe consta de varios elementos:\n",
    "* Nombres de columnas, las cuales pueden ser vistas como la primera fila en letras negritas. Para verlas usa _.columns_.\n",
    "* Nombres de filas, las cuales pueden ser vistas como la primera columna, la cual carece de nombre. Para verlas usa _.index_.\n",
    "* Valores, los datos dentro de la tabla. Para verlas usa _.values_.\n",
    "* El número de filas y columnas total. Para verla usa _.shape_.\n",
    "* Tipo de datos de cada columna. Para verla usa _.dtype_."
   ]
  },
  {
   "cell_type": "markdown",
   "metadata": {},
   "source": [
    "Con el fin de conocer el nombre de las columnas usaremos la opción _.columns_. Es importante notar que esta opción no tiene paréntesis no corchetes, ya que es un elemento del objeto."
   ]
  },
  {
   "cell_type": "code",
   "execution_count": null,
   "metadata": {
    "tags": []
   },
   "outputs": [],
   "source": [
    "df.columns"
   ]
  },
  {
   "cell_type": "markdown",
   "metadata": {},
   "source": [
    "Estas columnas corresponden a las del diccionario de datos que se encuentra en la Hoja 2 del archivo.\n",
    "\n",
    "### Ejercicio 1\n",
    "\n",
    "Usa cada una de las opciones mencionadas en esta sección y describe que regresa.\n",
    "* `df.index`\n",
    "* `df.values`\n",
    "* `df.shape`\n",
    "* `df.dtypes`\n"
   ]
  },
  {
   "cell_type": "code",
   "execution_count": null,
   "metadata": {
    "tags": []
   },
   "outputs": [],
   "source": [
    "df.shape"
   ]
  },
  {
   "cell_type": "markdown",
   "metadata": {},
   "source": [
    "## 4.b Slicing\n",
    "\n",
    "Muchas veces no queremos trabajar sobre toda la tabla de datos, en su lugar queremos usar unicamente una fracción de ella. Para ello, existen varias formas de selecionar partes de una tabla.\n",
    "\n",
    "Por ejemplo, la función `.head()` devuelve las primeras filas de la tabla. Por defecto estos comandos muestran solo cinco filas, pero es posible cambiar el número de filas poniendo un número entre paréntesis."
   ]
  },
  {
   "cell_type": "code",
   "execution_count": null,
   "metadata": {
    "tags": []
   },
   "outputs": [],
   "source": [
    "df.head()"
   ]
  },
  {
   "cell_type": "markdown",
   "metadata": {},
   "source": [
    "Si queremos ver las últimas filas se puede usar el comando `.tail()`. \n",
    "\n",
    "En ambos casos se puede específicar el número de filas que se quieren ver"
   ]
  },
  {
   "cell_type": "code",
   "execution_count": null,
   "metadata": {
    "tags": []
   },
   "outputs": [],
   "source": [
    "df.tail( 10 )"
   ]
  },
  {
   "cell_type": "markdown",
   "metadata": {},
   "source": [
    "Para ver una columna específica se pone el nombre del dataframe seguido por corchetes con el nombre de la columna. Una sola columna es del tipo `pd.Series`. Por ejemplo, para ver la columna del sexo ponemos su nombre 'Sexo' entre corchetes. Esto es similar a la forma en la que se seleccionan elementos en listas o diccionarios."
   ]
  },
  {
   "cell_type": "code",
   "execution_count": null,
   "metadata": {
    "tags": []
   },
   "outputs": [],
   "source": [
    "df[ 'Sexo' ]"
   ]
  },
  {
   "cell_type": "markdown",
   "metadata": {},
   "source": [
    "Se pueden seleccionar varias columnas a la vez, poniendo sus nombres en una lista dentro de corchetes. Lo anterior significa que para seleccionar varias columnas hay que usar corchetes dobles."
   ]
  },
  {
   "cell_type": "code",
   "execution_count": null,
   "metadata": {
    "tags": []
   },
   "outputs": [],
   "source": [
    "df[  ['Conocido_desconocido','Sexo']  ]"
   ]
  },
  {
   "cell_type": "markdown",
   "metadata": {},
   "source": [
    "La primera columna que podemos observar en la tabla y carece de nombre, es el índice de las filas. \n",
    "Por default, pandas asigna números de identificación a cada una de las filas, empezando por el cero . \n",
    "Sin embargo, es posible especificar que columna es el indice cómo se vió al principio del tutorial.\n",
    "\n",
    "Podemos seleccionar las filas por posición o por el nombren el indice.\n",
    "Con `.iloc` se selecciona el número de posición de la fila, sin olvidar que la numeración empieza en 0. Por ejemplo, seleccionemos la novena fila."
   ]
  },
  {
   "cell_type": "code",
   "execution_count": null,
   "metadata": {
    "scrolled": true,
    "tags": []
   },
   "outputs": [],
   "source": [
    "df.iloc[9]"
   ]
  },
  {
   "cell_type": "markdown",
   "metadata": {},
   "source": [
    "De la misma manera, se pueden seleccionar varias filas usando una lista."
   ]
  },
  {
   "cell_type": "code",
   "execution_count": null,
   "metadata": {
    "scrolled": true,
    "tags": []
   },
   "outputs": [],
   "source": [
    "df.iloc[  [9, 13, 62, 201]  ]"
   ]
  },
  {
   "cell_type": "markdown",
   "metadata": {},
   "source": [
    "O se puede marcar una secuencia de posiciones como si fuera una lista"
   ]
  },
  {
   "cell_type": "code",
   "execution_count": null,
   "metadata": {
    "tags": []
   },
   "outputs": [],
   "source": [
    "df.iloc[  5:10  ]"
   ]
  },
  {
   "cell_type": "markdown",
   "metadata": {},
   "source": [
    "Este comando también se puede usar para seleccionar un conjunto de filas y columnas específico usando la posición. Para hacerlo se utiliza el formato: `df.iloc[filas, columnas]`."
   ]
  },
  {
   "cell_type": "code",
   "execution_count": null,
   "metadata": {
    "tags": []
   },
   "outputs": [],
   "source": [
    "df.iloc[ 9:15, [2,5,7] ]"
   ]
  },
  {
   "cell_type": "markdown",
   "metadata": {},
   "source": [
    "Con `.loc` (sin la **i**) se selecciona la llave de la fila."
   ]
  },
  {
   "cell_type": "code",
   "execution_count": null,
   "metadata": {
    "tags": []
   },
   "outputs": [],
   "source": [
    "df.loc[ 'BO_1968_00005' ]"
   ]
  },
  {
   "cell_type": "markdown",
   "metadata": {},
   "source": [
    "Este comando también se puede usar para seleccionar un conjunto de filas y columnas específico por la llave o el nombre en el indice y las columnas. Para hacerlo se utiliza el formato: `df.loc[filas, columnas]`."
   ]
  },
  {
   "cell_type": "code",
   "execution_count": null,
   "metadata": {
    "scrolled": true,
    "tags": []
   },
   "outputs": [],
   "source": [
    "df.loc[  ['BO_1968_00005','BO_1969_00005','BO_1970_00005','BO_1971_00005']  , \n",
    "         ['Conocido_desconocido','Sexo']  ]"
   ]
  },
  {
   "cell_type": "markdown",
   "metadata": {},
   "source": [
    "## 4.c Únicos y conteo\n",
    "\n",
    "Se pueden hacer varias cosas con una columna o `pd.Series`. \n",
    "\n",
    "Por ejemplo, se pueden determinar los valores únicos de la columna para entender la información contenida en ella con la función `.unique()`.\n",
    "\n",
    "Por ejemplo, al revisar el profile se puede ver que hay múltiples instituciones de origen, así que obtendremos una lista de estas."
   ]
  },
  {
   "cell_type": "code",
   "execution_count": null,
   "metadata": {
    "tags": []
   },
   "outputs": [],
   "source": [
    "df['Tipo_restos'].unique()"
   ]
  },
  {
   "cell_type": "markdown",
   "metadata": {},
   "source": [
    "Si lo único que nos interesa saber es cuantos datos únicos hay, y no cuales son, se puede usar la función `.nunique()`."
   ]
  },
  {
   "cell_type": "code",
   "execution_count": null,
   "metadata": {
    "tags": []
   },
   "outputs": [],
   "source": [
    "df['Tipo_restos'].nunique()"
   ]
  },
  {
   "cell_type": "markdown",
   "metadata": {},
   "source": [
    "También, se puede contabilizar cuántas veces aparece cada uno de estos valores con `.value_counts()`. Esto permite saber cuantas veces aparece cada valor único. El resultado de la función es un dataframe."
   ]
  },
  {
   "cell_type": "code",
   "execution_count": null,
   "metadata": {
    "tags": []
   },
   "outputs": [],
   "source": [
    "df['Tipo_restos'].value_counts()"
   ]
  },
  {
   "cell_type": "markdown",
   "metadata": {},
   "source": [
    "Para ver estos resultados como porcentaje se puede usar el parámetro _normalize_. \n"
   ]
  },
  {
   "cell_type": "code",
   "execution_count": null,
   "metadata": {
    "tags": []
   },
   "outputs": [],
   "source": [
    "df['Tipo_restos'].value_counts( normalize=True )"
   ]
  },
  {
   "cell_type": "markdown",
   "metadata": {},
   "source": [
    "Es posible usar la función `.value_counts()` sobre varias columnas a la vez.\n",
    "Esto regrese un dataframe con un `multi index`."
   ]
  },
  {
   "cell_type": "code",
   "execution_count": null,
   "metadata": {
    "tags": []
   },
   "outputs": [],
   "source": [
    "df[ ['Sexo','Conocido_desconocido'] ].value_counts()"
   ]
  },
  {
   "cell_type": "markdown",
   "metadata": {},
   "source": [
    "Es posible que en una columna o variable haya filas u observaciones donde no se registro el dato. \n",
    "Para incluir los NaN es necesario cambiar los parámetros de la función,usando el parámetro `dropna=False`.\n",
    "Esto es de suma importancia al normalizar los datos, ya que el porcentaje de cada valor único cambiará dependiendo de si se toman, o no, en cuenta los NaN."
   ]
  },
  {
   "cell_type": "code",
   "execution_count": null,
   "metadata": {
    "tags": []
   },
   "outputs": [],
   "source": [
    "df['Edad_transcrito'].value_counts(normalize=True ,  dropna=False, )"
   ]
  },
  {
   "cell_type": "markdown",
   "metadata": {},
   "source": [
    "Como el resultado de la función `.value_counts()` es un dataframe podemos utilizar funciones propias de dataframe como `.head()` o slicing.\n",
    "\n",
    "Por ejemplo, para ver las cinco instituciones que entregan más cadaveres obtendremos el conteo de valores con `.value_counts()` y después seleccionaremos los cinco primeros usando un slicing de lista."
   ]
  },
  {
   "cell_type": "code",
   "execution_count": null,
   "metadata": {
    "scrolled": true,
    "tags": []
   },
   "outputs": [],
   "source": [
    "df['Procedencia_transcrito'].value_counts().head(5)"
   ]
  },
  {
   "cell_type": "markdown",
   "metadata": {},
   "source": [
    "### Ejercicio 2\n",
    "\n",
    "* ¿Cuáles son los cinco apellidos más comunes?\n",
    "* ¿Cuántas veces aparece cada uno?\n",
    "* ¿Qué porcentaje de la población tiene cada apellido? ¿Es lo mismo si normalizamos?\n",
    "* ¿Cómo afectan los datos protegidos por razones legales estas cuentas?\n"
   ]
  },
  {
   "cell_type": "markdown",
   "metadata": {},
   "source": [
    "## 4.d Ordenar\n",
    "\n",
    "Además de poder seleccionar los datos muchas veces es muy importante poder ordenarlos. Para eso usaremos `.sort_values()`.\n",
    "\n",
    "Para ordenar una sola columna:"
   ]
  },
  {
   "cell_type": "code",
   "execution_count": null,
   "metadata": {
    "tags": []
   },
   "outputs": [],
   "source": [
    "df['Nombres_propios'].sort_values()"
   ]
  },
  {
   "cell_type": "markdown",
   "metadata": {},
   "source": [
    "Por default `.sort_values()` ordena en orden alfábetico o de menor a mayor, en caso de datos númericos. \n",
    "Para cambiar esto podemos usar el parámetro `ascending`. En el caso de los datos de texto los caracteres especiales van al principio. Por default los datos con `NaN` siempre van al final de la tabla.\n",
    "Es importante destacar que los acentos pueden causar problemas al ordenar alfabeticamente."
   ]
  },
  {
   "cell_type": "code",
   "execution_count": null,
   "metadata": {
    "tags": []
   },
   "outputs": [],
   "source": [
    "df['Nombres_propios'].sort_values( ascending=False )"
   ]
  },
  {
   "cell_type": "markdown",
   "metadata": {},
   "source": [
    "Para ordenar todo el dataframe por una columna es necesario decir explicitamente que columna se va a usar.\n",
    "\n",
    "Nota como en ambos casos se selecciona primero sobre que se va a trabajar, ya sea el dataframe completo (`df`) o una columna específica (`df[nombre_columna]`), después se dice que se va a hacer con el nombre de la función (`.sort_values()`) y finalmente se dan instrucciones específicas a la función de cómo hacerlo si es necesario poniendo los parametros dentro del parentesis."
   ]
  },
  {
   "cell_type": "code",
   "execution_count": null,
   "metadata": {
    "tags": []
   },
   "outputs": [],
   "source": [
    "df.sort_values( 'Nombres_propios' )"
   ]
  },
  {
   "cell_type": "markdown",
   "metadata": {},
   "source": [
    "Es posible ordenar por varias columnas especificando el nombre de las columnas en una lista y la forma de ordenarlas usando _ascending_."
   ]
  },
  {
   "cell_type": "code",
   "execution_count": null,
   "metadata": {
    "tags": []
   },
   "outputs": [],
   "source": [
    "df.sort_values(  ['Sexo', 'Conocido_desconocido']  ,  ascending=[True,False]   )\n",
    "df"
   ]
  },
  {
   "cell_type": "markdown",
   "metadata": {},
   "source": [
    "## 4.e Subsetting\n",
    "\n",
    "Es posible seleccionar los datos de acuerdo a una (o más) condición. \n",
    "\n",
    "Por ejemplo para seleccionar las filas con registros de mujeres buscamos las filas donde el 'Sexo' es 'Femenino' con la condición:"
   ]
  },
  {
   "cell_type": "code",
   "execution_count": null,
   "metadata": {
    "tags": []
   },
   "outputs": [],
   "source": [
    "df['Sexo'] == 'Femenino'"
   ]
  },
  {
   "cell_type": "markdown",
   "metadata": {},
   "source": [
    "Esta condicion nos dice para cada fila si el valos es 'Femenino', si ponemos esto dentro de _.loc[]_ podemos usarlo para encontrar las filas con registros de mujeres."
   ]
  },
  {
   "cell_type": "code",
   "execution_count": null,
   "metadata": {
    "tags": []
   },
   "outputs": [],
   "source": [
    "df.loc[ df['Sexo']=='Femenino' ]"
   ]
  },
  {
   "cell_type": "markdown",
   "metadata": {},
   "source": [
    "Para seleccionar las filas que NO son registros de mujeres buscamos aquellos donde el sexo es diferenente (_!=_) a 'Femenino'"
   ]
  },
  {
   "cell_type": "code",
   "execution_count": null,
   "metadata": {
    "scrolled": true,
    "tags": []
   },
   "outputs": [],
   "source": [
    "df[  df['Sexo'] != 'Femenino'  ]"
   ]
  },
  {
   "cell_type": "markdown",
   "metadata": {},
   "source": [
    "Si los datos son numéricos es posible usar operaciones como mayor, menor o igual para seleccionar con esas condiciones. Por ejemplo para ver los cadaveres menor de edad podriamos buscar todos las filas donde el valor de la edad es menor que 18.\n",
    "\n",
    "**Nota** Al cargar los datos en la primera celda de código se limpio la celda para que solo incluyera valores numéricos."
   ]
  },
  {
   "cell_type": "code",
   "execution_count": null,
   "metadata": {
    "scrolled": true,
    "tags": []
   },
   "outputs": [],
   "source": [
    "df[  df['Edad_transcrito']<18  ]"
   ]
  },
  {
   "cell_type": "markdown",
   "metadata": {},
   "source": [
    "En varios casos podemos ver que no hay datos sobre el edad, lo cual se representa con _NaN_. Para ver las filas con valor _NaN_ se usa la función _isna()_.\n",
    "\n",
    "Lo anterior puede representar un problema al momento del análisis, ya que significa que los datos son incompletos y generalmente es necesario procesarlos como veremos mas adelante. Es por esto que es importante revisar los faltantes."
   ]
  },
  {
   "cell_type": "code",
   "execution_count": null,
   "metadata": {
    "tags": []
   },
   "outputs": [],
   "source": [
    "df[  df['Edad_transcrito'].isna()  ]"
   ]
  },
  {
   "cell_type": "markdown",
   "metadata": {},
   "source": [
    "Es posible hacer lo contrario a la instrucción de selección agregando una negación al principio del comando de selección. \n",
    "\n",
    "Por ejemplo, para seleccionar las observaciones donde SI hay una edad, seleccionamos aquellas que no tienen Edad con isna() y luego las negamos. Recuerda que dos negaciones son una afirmación."
   ]
  },
  {
   "cell_type": "code",
   "execution_count": null,
   "metadata": {
    "tags": []
   },
   "outputs": [],
   "source": [
    "df[ ~ df['Edad_transcrito'].isna() ]"
   ]
  },
  {
   "cell_type": "markdown",
   "metadata": {},
   "source": [
    "A veces no queremos seleccionar las columnas que tienen un solo valor, sino varios. Por ejemplo, si queremos ver los restos que provienen de hospitales podemos generar una lista llamada 'hospitales' y despues los buscamos con el comando _.isin()_"
   ]
  },
  {
   "cell_type": "code",
   "execution_count": null,
   "metadata": {
    "scrolled": true,
    "tags": []
   },
   "outputs": [],
   "source": [
    "hospitales = ['HX', 'XO', 'HTB', 'VO', 'HTV', 'CR','HRL', 'HCM', 'MH-CR' ]\n",
    "df[ df['Procedencia_estandar'].isin(hospitales) ]"
   ]
  },
  {
   "cell_type": "markdown",
   "metadata": {},
   "source": [
    "Si queremos los registros que no provienen de hospitales, podemos usar el comando de negación `~` para obtener el conjunto complementario."
   ]
  },
  {
   "cell_type": "code",
   "execution_count": null,
   "metadata": {
    "tags": []
   },
   "outputs": [],
   "source": [
    "df[ ~df['Procedencia_estandar'].isin(hospitales) ]"
   ]
  },
  {
   "cell_type": "markdown",
   "metadata": {},
   "source": [
    "Se pueden usar varias condiciones al mismo tiempo.\n",
    "Para combinar varias condiciones es necesario poner cada condición entre parentesis.\n",
    "Las condiciones se unen usando los operadores booleanos:\n",
    "* _&_ se cumplen ambas condiciones\n",
    "* _|_ se cumple al menos una de las condiciones\n",
    "* _~_ negación\n",
    "\n",
    "Por ejemplo, para seleccionar los restos de mujeres menores de 18 años ponemos cada uno de los selectores de edades antes visto entre paréntesis y los unimos con _&_\n"
   ]
  },
  {
   "cell_type": "code",
   "execution_count": null,
   "metadata": {
    "scrolled": true,
    "tags": []
   },
   "outputs": [],
   "source": [
    "# df.loc[ (seleccionar_mujeres) & (seleccionar_menores_de_edad)] \n",
    "df.loc[  ( df['Sexo']=='Femenino' ) & ( df['Edad_transcrito']<18 ) ]"
   ]
  },
  {
   "cell_type": "markdown",
   "metadata": {},
   "source": [
    "Es posible hacer combinaciones de selecciones bastante complicadas, sin embargo se recomienda guardarlas en un dataframe específico e ir haciendo las selecciones por pasos."
   ]
  },
  {
   "cell_type": "code",
   "execution_count": null,
   "metadata": {
    "scrolled": true,
    "tags": []
   },
   "outputs": [],
   "source": [
    "df_vulnerables = df[ ~df['Edad_transcrito'].isna() ] #ignorar aquellos que no tienen edad\n",
    "# seleccionar menores de edad \n",
    "s_menores = df_vulnerables['Edad_transcrito']<18\n",
    "# seleccionar mujeres\n",
    "s_mujeres = df_vulnerables['Sexo']=='Femenino'\n",
    "# nota como seleccionamos sobre la primera seleccion y no el dataframe en general\n",
    "df_vulnerables = df_vulnerables[ (s_menores) | (s_mujeres) ]\n",
    "df_vulnerables #ver el resultado\n"
   ]
  },
  {
   "cell_type": "markdown",
   "metadata": {},
   "source": [
    "Nota sobre fechas\n",
    "\n",
    "Algunos tipos de datos permiten realizar operaciones especializadas. Por ejemplo con las fechas se pueden extraes el mes, día, día de la semana, hora, etc. Veremos esto más adelante pero dejamos un ejemplo de registros inhumados en viernes."
   ]
  },
  {
   "cell_type": "code",
   "execution_count": null,
   "metadata": {
    "tags": []
   },
   "outputs": [],
   "source": [
    "df[ df['Fecha_estandar'].dt.day_name() == 'Friday' ]"
   ]
  },
  {
   "cell_type": "markdown",
   "metadata": {
    "tags": []
   },
   "source": [
    "### Ejercicio 3\n",
    "\n",
    "* Escribe tres combinaciones de datos que te interesaria conocer y escribelas. Por ejemplo los restos recibidos en enero.\n",
    "* Tratá de resolver estas combinaciones de datos usando pandas. En caso de no poder anota que datos u operaciones hacen falta.\n",
    "* Escribe tres formas en las que te gustaría ordenar los datos.\n",
    "* Obten las tablas ordenadas, en caso de no poder hacerlo indica que datos te harían falta."
   ]
  },
  {
   "cell_type": "markdown",
   "metadata": {
    "tags": []
   },
   "source": [
    "## 4.f Guardar datos\n",
    "\n",
    "Ya que tienen un subset, es posible guardarlo para utilizarlo mas adelante o abrirlo en otro programa como excel.\n",
    "\n",
    "La nueva tabla debé de estar en una variable, en este caso usaremos `df_vulnerables`"
   ]
  },
  {
   "cell_type": "code",
   "execution_count": null,
   "metadata": {
    "tags": []
   },
   "outputs": [],
   "source": [
    "df_vulnerables"
   ]
  },
  {
   "cell_type": "markdown",
   "metadata": {},
   "source": [
    "Después, decidiremos el nombre del archivo y lo guardaremos en una variable con el nombre del archivo de salida.\n",
    "\n",
    "Finalmente, exportaremos la tabla en formato `.csv` con `.to_csv()`. Esta función tiene varios parametros, los cuales incluyen el nombre del archivo de salida, el incluir o no el indice, etc. Estas pueden ser vistas en la documentación."
   ]
  },
  {
   "cell_type": "code",
   "execution_count": null,
   "metadata": {
    "tags": []
   },
   "outputs": [],
   "source": [
    "out_file = \"data_clean/HBO_GruposVulnerables.csv\"\n",
    "df_vulnerables.to_csv(out_file)"
   ]
  },
  {
   "cell_type": "markdown",
   "metadata": {},
   "source": [
    "**Gracias!**"
   ]
  }
 ],
 "metadata": {
  "kernelspec": {
   "display_name": "Python 3 (ipykernel)",
   "language": "python",
   "name": "python3"
  },
  "language_info": {
   "codemirror_mode": {
    "name": "ipython",
    "version": 3
   },
   "file_extension": ".py",
   "mimetype": "text/x-python",
   "name": "python",
   "nbconvert_exporter": "python",
   "pygments_lexer": "ipython3",
   "version": "3.7.16"
  }
 },
 "nbformat": 4,
 "nbformat_minor": 4
}
